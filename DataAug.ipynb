{
  "nbformat": 4,
  "nbformat_minor": 0,
  "metadata": {
    "colab": {
      "name": "DataAug.ipynb",
      "provenance": [],
      "collapsed_sections": [],
      "authorship_tag": "ABX9TyMP9L6n9UAa1antACWZl316",
      "include_colab_link": true
    },
    "kernelspec": {
      "name": "python3",
      "display_name": "Python 3"
    },
    "language_info": {
      "name": "python"
    }
  },
  "cells": [
    {
      "cell_type": "markdown",
      "metadata": {
        "id": "view-in-github",
        "colab_type": "text"
      },
      "source": [
        "<a href=\"https://colab.research.google.com/github/ashuhitman/AndroidProjects/blob/master/DataAug.ipynb\" target=\"_parent\"><img src=\"https://colab.research.google.com/assets/colab-badge.svg\" alt=\"Open In Colab\"/></a>"
      ]
    },
    {
      "cell_type": "code",
      "execution_count": null,
      "metadata": {
        "id": "6vJeDz7JlZmd"
      },
      "outputs": [],
      "source": [
        "# pip install -U albumentations"
      ]
    },
    {
      "cell_type": "code",
      "source": [
        "from PIL import Image\n",
        "import time\n",
        "import torch\n",
        "import torchvision\n",
        "from torch.utils.data import Dataset\n",
        "from torchvision import transforms\n",
        "import albumentations\n",
        "import albumentations.pytorch\n",
        "from matplotlib import pyplot as plt\n",
        "import cv2\n",
        "import numpy as np\n",
        "import os"
      ],
      "metadata": {
        "id": "5B490vBH6VT4"
      },
      "execution_count": null,
      "outputs": []
    },
    {
      "cell_type": "code",
      "source": [
        "import os\n",
        "import cv2\n",
        "import albumentations as A\n",
        "input_dir = \"/content/fuseing/\"\n",
        "output_dir = \"/content/fuseing/\"\n",
        "img_files = os.listdir(input_dir)\n",
        "transform = A.Compose([\n",
        "    A.RandomCrop(width=256, height=256),\n",
        "    A.HorizontalFlip(p=0.5),\n",
        "    A.RandomBrightnessContrast(p=0.2),\n",
        "    A.VerticalFlip(),\n",
        "    A.Rotate(limit=40,p=0.9),\n",
        "    # A.RGBShift(r_shift_limit=25,g_shift_limit=25,b_shift_limit=25,p=0.9)\n",
        "])\n",
        "for file in img_files:\n",
        "  for i in range(15):\n",
        "    img_path = os.path.join(input_dir,file)\n",
        "    if img_path.endswith(\".png\") or img_path.endswith(\".bmp\") or img_path.endswith(\".jpg\") or img_path.endswith(\".jpeg\")  :\n",
        "      print(img_path)\n",
        "      img_path = os.path.join(input_dir,file)\n",
        "      img = cv2.imread(img_path,cv2.COLOR_BGR2RGB)\n",
        "      augmentations=transform(image=img)\n",
        "      augmented_img=augmentations[\"image\"]\n",
        "      filename = os.path.splitext(file)[0]\n",
        "      out_path = os.path.join(output_dir,filename+str(i)+\".png\")\n",
        "      cv2.imwrite(out_path,augmented_img)\n",
        "      plt.imshow(img)\n",
        "   "
      ],
      "metadata": {
        "id": "plqpAYLaUN0u"
      },
      "execution_count": null,
      "outputs": []
    },
    {
      "cell_type": "code",
      "source": [
        "## Data Augmenation for eeg image\n",
        "import os\n",
        "import cv2\n",
        "import albumentations as A\n",
        "img_files = os.listdir(input_dir)\n",
        "transform = A.Compose([\n",
        "    A.RandomCrop(width=256, height=256),\n",
        "    A.HorizontalFlip(p=0.5),\n",
        "    A.RandomBrightnessContrast(p=0.2),\n",
        "    A.VerticalFlip(),\n",
        "    A.Rotate(limit=40,p=0.9),\n",
        "    # A.RGBShift(r_shift_limit=25,g_shift_limit=25,b_shift_limit=25,p=0.9)\n",
        "])\n",
        "augmented_images = []\n",
        "for img in images:\n",
        "  augs = []\n",
        "  for i in range(4):\n",
        "    augmentations=transform(image=img)\n",
        "    augmented_img=augmentations[\"image\"]\n",
        "    augs.push(augmented_img)\n",
        "  augmented_img.push(img,augs[0],augs[1],augs[1],augs[2],augs[3])\n"
      ],
      "metadata": {
        "id": "DAd8CBGgXYia"
      },
      "execution_count": null,
      "outputs": []
    }
  ]
}